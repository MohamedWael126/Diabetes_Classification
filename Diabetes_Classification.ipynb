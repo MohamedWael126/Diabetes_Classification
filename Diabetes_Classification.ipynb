{
 "cells": [
  {
   "cell_type": "code",
   "execution_count": 42,
   "id": "2fcc09fe",
   "metadata": {},
   "outputs": [],
   "source": [
    "import numpy as np \n",
    "import pandas as pd\n",
    "import matplotlib.pyplot as plt\n",
    "import seaborn as sns"
   ]
  },
  {
   "cell_type": "code",
   "execution_count": 43,
   "id": "57a3e02a",
   "metadata": {},
   "outputs": [
    {
     "data": {
      "text/html": [
       "<div>\n",
       "<style scoped>\n",
       "    .dataframe tbody tr th:only-of-type {\n",
       "        vertical-align: middle;\n",
       "    }\n",
       "\n",
       "    .dataframe tbody tr th {\n",
       "        vertical-align: top;\n",
       "    }\n",
       "\n",
       "    .dataframe thead th {\n",
       "        text-align: right;\n",
       "    }\n",
       "</style>\n",
       "<table border=\"1\" class=\"dataframe\">\n",
       "  <thead>\n",
       "    <tr style=\"text-align: right;\">\n",
       "      <th></th>\n",
       "      <th>6</th>\n",
       "      <th>148</th>\n",
       "      <th>72</th>\n",
       "      <th>35</th>\n",
       "      <th>0</th>\n",
       "      <th>33.6</th>\n",
       "      <th>0.627</th>\n",
       "      <th>50</th>\n",
       "      <th>1</th>\n",
       "    </tr>\n",
       "  </thead>\n",
       "  <tbody>\n",
       "    <tr>\n",
       "      <th>0</th>\n",
       "      <td>1</td>\n",
       "      <td>85</td>\n",
       "      <td>66</td>\n",
       "      <td>29</td>\n",
       "      <td>0</td>\n",
       "      <td>26.6</td>\n",
       "      <td>0.351</td>\n",
       "      <td>31</td>\n",
       "      <td>0</td>\n",
       "    </tr>\n",
       "    <tr>\n",
       "      <th>1</th>\n",
       "      <td>8</td>\n",
       "      <td>183</td>\n",
       "      <td>64</td>\n",
       "      <td>0</td>\n",
       "      <td>0</td>\n",
       "      <td>23.3</td>\n",
       "      <td>0.672</td>\n",
       "      <td>32</td>\n",
       "      <td>1</td>\n",
       "    </tr>\n",
       "    <tr>\n",
       "      <th>2</th>\n",
       "      <td>1</td>\n",
       "      <td>89</td>\n",
       "      <td>66</td>\n",
       "      <td>23</td>\n",
       "      <td>94</td>\n",
       "      <td>28.1</td>\n",
       "      <td>0.167</td>\n",
       "      <td>21</td>\n",
       "      <td>0</td>\n",
       "    </tr>\n",
       "    <tr>\n",
       "      <th>3</th>\n",
       "      <td>0</td>\n",
       "      <td>137</td>\n",
       "      <td>40</td>\n",
       "      <td>35</td>\n",
       "      <td>168</td>\n",
       "      <td>43.1</td>\n",
       "      <td>2.288</td>\n",
       "      <td>33</td>\n",
       "      <td>1</td>\n",
       "    </tr>\n",
       "    <tr>\n",
       "      <th>4</th>\n",
       "      <td>5</td>\n",
       "      <td>116</td>\n",
       "      <td>74</td>\n",
       "      <td>0</td>\n",
       "      <td>0</td>\n",
       "      <td>25.6</td>\n",
       "      <td>0.201</td>\n",
       "      <td>30</td>\n",
       "      <td>0</td>\n",
       "    </tr>\n",
       "  </tbody>\n",
       "</table>\n",
       "</div>"
      ],
      "text/plain": [
       "   6  148  72  35    0  33.6  0.627  50  1\n",
       "0  1   85  66  29    0  26.6  0.351  31  0\n",
       "1  8  183  64   0    0  23.3  0.672  32  1\n",
       "2  1   89  66  23   94  28.1  0.167  21  0\n",
       "3  0  137  40  35  168  43.1  2.288  33  1\n",
       "4  5  116  74   0    0  25.6  0.201  30  0"
      ]
     },
     "execution_count": 43,
     "metadata": {},
     "output_type": "execute_result"
    }
   ],
   "source": [
    "df= pd.read_csv('pima-indians-diabetes.csv')\n",
    "\n",
    "df.head()"
   ]
  },
  {
   "cell_type": "code",
   "execution_count": 44,
   "id": "2839169f",
   "metadata": {
    "scrolled": true
   },
   "outputs": [
    {
     "data": {
      "text/html": [
       "<div>\n",
       "<style scoped>\n",
       "    .dataframe tbody tr th:only-of-type {\n",
       "        vertical-align: middle;\n",
       "    }\n",
       "\n",
       "    .dataframe tbody tr th {\n",
       "        vertical-align: top;\n",
       "    }\n",
       "\n",
       "    .dataframe thead th {\n",
       "        text-align: right;\n",
       "    }\n",
       "</style>\n",
       "<table border=\"1\" class=\"dataframe\">\n",
       "  <thead>\n",
       "    <tr style=\"text-align: right;\">\n",
       "      <th></th>\n",
       "      <th>Preg</th>\n",
       "      <th>Glucose</th>\n",
       "      <th>BP</th>\n",
       "      <th>skinThick</th>\n",
       "      <th>Insulin</th>\n",
       "      <th>BMI</th>\n",
       "      <th>DPF</th>\n",
       "      <th>Age</th>\n",
       "      <th>Class</th>\n",
       "    </tr>\n",
       "  </thead>\n",
       "  <tbody>\n",
       "    <tr>\n",
       "      <th>0</th>\n",
       "      <td>6</td>\n",
       "      <td>148</td>\n",
       "      <td>72</td>\n",
       "      <td>35</td>\n",
       "      <td>0</td>\n",
       "      <td>33.6</td>\n",
       "      <td>0.627</td>\n",
       "      <td>50</td>\n",
       "      <td>1</td>\n",
       "    </tr>\n",
       "    <tr>\n",
       "      <th>1</th>\n",
       "      <td>1</td>\n",
       "      <td>85</td>\n",
       "      <td>66</td>\n",
       "      <td>29</td>\n",
       "      <td>0</td>\n",
       "      <td>26.6</td>\n",
       "      <td>0.351</td>\n",
       "      <td>31</td>\n",
       "      <td>0</td>\n",
       "    </tr>\n",
       "    <tr>\n",
       "      <th>2</th>\n",
       "      <td>8</td>\n",
       "      <td>183</td>\n",
       "      <td>64</td>\n",
       "      <td>0</td>\n",
       "      <td>0</td>\n",
       "      <td>23.3</td>\n",
       "      <td>0.672</td>\n",
       "      <td>32</td>\n",
       "      <td>1</td>\n",
       "    </tr>\n",
       "    <tr>\n",
       "      <th>3</th>\n",
       "      <td>1</td>\n",
       "      <td>89</td>\n",
       "      <td>66</td>\n",
       "      <td>23</td>\n",
       "      <td>94</td>\n",
       "      <td>28.1</td>\n",
       "      <td>0.167</td>\n",
       "      <td>21</td>\n",
       "      <td>0</td>\n",
       "    </tr>\n",
       "    <tr>\n",
       "      <th>4</th>\n",
       "      <td>0</td>\n",
       "      <td>137</td>\n",
       "      <td>40</td>\n",
       "      <td>35</td>\n",
       "      <td>168</td>\n",
       "      <td>43.1</td>\n",
       "      <td>2.288</td>\n",
       "      <td>33</td>\n",
       "      <td>1</td>\n",
       "    </tr>\n",
       "  </tbody>\n",
       "</table>\n",
       "</div>"
      ],
      "text/plain": [
       "   Preg  Glucose  BP  skinThick  Insulin   BMI    DPF  Age  Class\n",
       "0     6      148  72         35        0  33.6  0.627   50      1\n",
       "1     1       85  66         29        0  26.6  0.351   31      0\n",
       "2     8      183  64          0        0  23.3  0.672   32      1\n",
       "3     1       89  66         23       94  28.1  0.167   21      0\n",
       "4     0      137  40         35      168  43.1  2.288   33      1"
      ]
     },
     "execution_count": 44,
     "metadata": {},
     "output_type": "execute_result"
    }
   ],
   "source": [
    "features_names = [\"Preg\", \"Glucose\", \"BP\", \"skinThick\", \"Insulin\", \"BMI\", \"DPF\", \"Age\", \"Class\"]\n",
    "\n",
    "df= pd.read_csv('pima-indians-diabetes.csv' , names= features_names)\n",
    "\n",
    "df.head()\n"
   ]
  },
  {
   "cell_type": "code",
   "execution_count": 45,
   "id": "a7f04098",
   "metadata": {},
   "outputs": [
    {
     "data": {
      "text/plain": [
       "(768, 9)"
      ]
     },
     "execution_count": 45,
     "metadata": {},
     "output_type": "execute_result"
    }
   ],
   "source": [
    "df.shape"
   ]
  },
  {
   "cell_type": "code",
   "execution_count": 46,
   "id": "146b7cb3",
   "metadata": {
    "scrolled": true
   },
   "outputs": [
    {
     "data": {
      "text/plain": [
       "Preg         0\n",
       "Glucose      0\n",
       "BP           0\n",
       "skinThick    0\n",
       "Insulin      0\n",
       "BMI          0\n",
       "DPF          0\n",
       "Age          0\n",
       "Class        0\n",
       "dtype: int64"
      ]
     },
     "execution_count": 46,
     "metadata": {},
     "output_type": "execute_result"
    }
   ],
   "source": [
    "df.isna().sum()"
   ]
  },
  {
   "cell_type": "code",
   "execution_count": 47,
   "id": "bf6019e9",
   "metadata": {},
   "outputs": [
    {
     "name": "stdout",
     "output_type": "stream",
     "text": [
      "<class 'pandas.core.frame.DataFrame'>\n",
      "RangeIndex: 768 entries, 0 to 767\n",
      "Data columns (total 9 columns):\n",
      " #   Column     Non-Null Count  Dtype  \n",
      "---  ------     --------------  -----  \n",
      " 0   Preg       768 non-null    int64  \n",
      " 1   Glucose    768 non-null    int64  \n",
      " 2   BP         768 non-null    int64  \n",
      " 3   skinThick  768 non-null    int64  \n",
      " 4   Insulin    768 non-null    int64  \n",
      " 5   BMI        768 non-null    float64\n",
      " 6   DPF        768 non-null    float64\n",
      " 7   Age        768 non-null    int64  \n",
      " 8   Class      768 non-null    int64  \n",
      "dtypes: float64(2), int64(7)\n",
      "memory usage: 54.1 KB\n"
     ]
    }
   ],
   "source": [
    "df.info()"
   ]
  },
  {
   "cell_type": "code",
   "execution_count": 48,
   "id": "c606ace9",
   "metadata": {},
   "outputs": [
    {
     "data": {
      "text/plain": [
       "array([ 6,  1,  8,  0,  5,  3, 10,  2,  4,  7,  9, 11, 13, 15, 17, 12, 14],\n",
       "      dtype=int64)"
      ]
     },
     "execution_count": 48,
     "metadata": {},
     "output_type": "execute_result"
    }
   ],
   "source": [
    "df['Preg'].unique()"
   ]
  },
  {
   "cell_type": "code",
   "execution_count": 49,
   "id": "d73863de",
   "metadata": {},
   "outputs": [
    {
     "data": {
      "text/plain": [
       "array([35, 29,  0, 23, 32, 45, 19, 47, 38, 30, 41, 33, 26, 15, 36, 11, 31,\n",
       "       37, 42, 25, 18, 24, 39, 27, 21, 34, 10, 60, 13, 20, 22, 28, 54, 40,\n",
       "       51, 56, 14, 17, 50, 44, 12, 46, 16,  7, 52, 43, 48,  8, 49, 63, 99],\n",
       "      dtype=int64)"
      ]
     },
     "execution_count": 49,
     "metadata": {},
     "output_type": "execute_result"
    }
   ],
   "source": [
    "df['skinThick'].unique()"
   ]
  },
  {
   "cell_type": "code",
   "execution_count": 50,
   "id": "c595375e",
   "metadata": {},
   "outputs": [
    {
     "data": {
      "text/html": [
       "<div>\n",
       "<style scoped>\n",
       "    .dataframe tbody tr th:only-of-type {\n",
       "        vertical-align: middle;\n",
       "    }\n",
       "\n",
       "    .dataframe tbody tr th {\n",
       "        vertical-align: top;\n",
       "    }\n",
       "\n",
       "    .dataframe thead th {\n",
       "        text-align: right;\n",
       "    }\n",
       "</style>\n",
       "<table border=\"1\" class=\"dataframe\">\n",
       "  <thead>\n",
       "    <tr style=\"text-align: right;\">\n",
       "      <th></th>\n",
       "      <th>Preg</th>\n",
       "      <th>Glucose</th>\n",
       "      <th>BP</th>\n",
       "      <th>skinThick</th>\n",
       "      <th>Insulin</th>\n",
       "      <th>BMI</th>\n",
       "      <th>DPF</th>\n",
       "      <th>Age</th>\n",
       "      <th>Class</th>\n",
       "    </tr>\n",
       "  </thead>\n",
       "  <tbody>\n",
       "    <tr>\n",
       "      <th>2</th>\n",
       "      <td>8</td>\n",
       "      <td>183</td>\n",
       "      <td>64</td>\n",
       "      <td>0</td>\n",
       "      <td>0</td>\n",
       "      <td>23.3</td>\n",
       "      <td>0.672</td>\n",
       "      <td>32</td>\n",
       "      <td>1</td>\n",
       "    </tr>\n",
       "    <tr>\n",
       "      <th>5</th>\n",
       "      <td>5</td>\n",
       "      <td>116</td>\n",
       "      <td>74</td>\n",
       "      <td>0</td>\n",
       "      <td>0</td>\n",
       "      <td>25.6</td>\n",
       "      <td>0.201</td>\n",
       "      <td>30</td>\n",
       "      <td>0</td>\n",
       "    </tr>\n",
       "    <tr>\n",
       "      <th>7</th>\n",
       "      <td>10</td>\n",
       "      <td>115</td>\n",
       "      <td>0</td>\n",
       "      <td>0</td>\n",
       "      <td>0</td>\n",
       "      <td>35.3</td>\n",
       "      <td>0.134</td>\n",
       "      <td>29</td>\n",
       "      <td>0</td>\n",
       "    </tr>\n",
       "    <tr>\n",
       "      <th>9</th>\n",
       "      <td>8</td>\n",
       "      <td>125</td>\n",
       "      <td>96</td>\n",
       "      <td>0</td>\n",
       "      <td>0</td>\n",
       "      <td>0.0</td>\n",
       "      <td>0.232</td>\n",
       "      <td>54</td>\n",
       "      <td>1</td>\n",
       "    </tr>\n",
       "    <tr>\n",
       "      <th>10</th>\n",
       "      <td>4</td>\n",
       "      <td>110</td>\n",
       "      <td>92</td>\n",
       "      <td>0</td>\n",
       "      <td>0</td>\n",
       "      <td>37.6</td>\n",
       "      <td>0.191</td>\n",
       "      <td>30</td>\n",
       "      <td>0</td>\n",
       "    </tr>\n",
       "    <tr>\n",
       "      <th>...</th>\n",
       "      <td>...</td>\n",
       "      <td>...</td>\n",
       "      <td>...</td>\n",
       "      <td>...</td>\n",
       "      <td>...</td>\n",
       "      <td>...</td>\n",
       "      <td>...</td>\n",
       "      <td>...</td>\n",
       "      <td>...</td>\n",
       "    </tr>\n",
       "    <tr>\n",
       "      <th>757</th>\n",
       "      <td>0</td>\n",
       "      <td>123</td>\n",
       "      <td>72</td>\n",
       "      <td>0</td>\n",
       "      <td>0</td>\n",
       "      <td>36.3</td>\n",
       "      <td>0.258</td>\n",
       "      <td>52</td>\n",
       "      <td>1</td>\n",
       "    </tr>\n",
       "    <tr>\n",
       "      <th>758</th>\n",
       "      <td>1</td>\n",
       "      <td>106</td>\n",
       "      <td>76</td>\n",
       "      <td>0</td>\n",
       "      <td>0</td>\n",
       "      <td>37.5</td>\n",
       "      <td>0.197</td>\n",
       "      <td>26</td>\n",
       "      <td>0</td>\n",
       "    </tr>\n",
       "    <tr>\n",
       "      <th>759</th>\n",
       "      <td>6</td>\n",
       "      <td>190</td>\n",
       "      <td>92</td>\n",
       "      <td>0</td>\n",
       "      <td>0</td>\n",
       "      <td>35.5</td>\n",
       "      <td>0.278</td>\n",
       "      <td>66</td>\n",
       "      <td>1</td>\n",
       "    </tr>\n",
       "    <tr>\n",
       "      <th>762</th>\n",
       "      <td>9</td>\n",
       "      <td>89</td>\n",
       "      <td>62</td>\n",
       "      <td>0</td>\n",
       "      <td>0</td>\n",
       "      <td>22.5</td>\n",
       "      <td>0.142</td>\n",
       "      <td>33</td>\n",
       "      <td>0</td>\n",
       "    </tr>\n",
       "    <tr>\n",
       "      <th>766</th>\n",
       "      <td>1</td>\n",
       "      <td>126</td>\n",
       "      <td>60</td>\n",
       "      <td>0</td>\n",
       "      <td>0</td>\n",
       "      <td>30.1</td>\n",
       "      <td>0.349</td>\n",
       "      <td>47</td>\n",
       "      <td>1</td>\n",
       "    </tr>\n",
       "  </tbody>\n",
       "</table>\n",
       "<p>227 rows × 9 columns</p>\n",
       "</div>"
      ],
      "text/plain": [
       "     Preg  Glucose  BP  skinThick  Insulin   BMI    DPF  Age  Class\n",
       "2       8      183  64          0        0  23.3  0.672   32      1\n",
       "5       5      116  74          0        0  25.6  0.201   30      0\n",
       "7      10      115   0          0        0  35.3  0.134   29      0\n",
       "9       8      125  96          0        0   0.0  0.232   54      1\n",
       "10      4      110  92          0        0  37.6  0.191   30      0\n",
       "..    ...      ...  ..        ...      ...   ...    ...  ...    ...\n",
       "757     0      123  72          0        0  36.3  0.258   52      1\n",
       "758     1      106  76          0        0  37.5  0.197   26      0\n",
       "759     6      190  92          0        0  35.5  0.278   66      1\n",
       "762     9       89  62          0        0  22.5  0.142   33      0\n",
       "766     1      126  60          0        0  30.1  0.349   47      1\n",
       "\n",
       "[227 rows x 9 columns]"
      ]
     },
     "execution_count": 50,
     "metadata": {},
     "output_type": "execute_result"
    }
   ],
   "source": [
    "df[df['skinThick']==0]"
   ]
  },
  {
   "cell_type": "code",
   "execution_count": 51,
   "id": "f08b410b",
   "metadata": {},
   "outputs": [
    {
     "data": {
      "text/plain": [
       "0       30.5\n",
       "1       30.5\n",
       "2       30.5\n",
       "3       94.0\n",
       "4      168.0\n",
       "       ...  \n",
       "763    180.0\n",
       "764     30.5\n",
       "765    112.0\n",
       "766     30.5\n",
       "767     30.5\n",
       "Name: Insulin, Length: 768, dtype: float64"
      ]
     },
     "execution_count": 51,
     "metadata": {},
     "output_type": "execute_result"
    }
   ],
   "source": [
    "df['Insulin'] = df['Insulin'].replace(to_replace=0, \n",
    "                                      value=df['Insulin'].median())\n",
    "                                     \n",
    "df['Insulin']\n",
    "\n"
   ]
  },
  {
   "cell_type": "code",
   "execution_count": 52,
   "id": "96730308",
   "metadata": {},
   "outputs": [
    {
     "data": {
      "text/plain": [
       "0       30.5\n",
       "1       30.5\n",
       "2       30.5\n",
       "3       94.0\n",
       "4      168.0\n",
       "       ...  \n",
       "763    180.0\n",
       "764     30.5\n",
       "765    112.0\n",
       "766     30.5\n",
       "767     30.5\n",
       "Name: Insulin, Length: 768, dtype: float64"
      ]
     },
     "execution_count": 52,
     "metadata": {},
     "output_type": "execute_result"
    }
   ],
   "source": [
    "df['Insulin'] "
   ]
  },
  {
   "cell_type": "code",
   "execution_count": 53,
   "id": "ffaa90f4",
   "metadata": {
    "scrolled": true
   },
   "outputs": [
    {
     "data": {
      "text/plain": [
       "0      35\n",
       "1      29\n",
       "2      23\n",
       "3      23\n",
       "4      35\n",
       "       ..\n",
       "763    48\n",
       "764    27\n",
       "765    23\n",
       "766    23\n",
       "767    31\n",
       "Name: skinThick, Length: 768, dtype: int64"
      ]
     },
     "execution_count": 53,
     "metadata": {},
     "output_type": "execute_result"
    }
   ],
   "source": [
    "df['skinThick'] = df['skinThick'].replace(to_replace=0, \n",
    "                                      value=df['skinThick'].median())\n",
    "                                     \n",
    "df['skinThick']"
   ]
  },
  {
   "cell_type": "code",
   "execution_count": 57,
   "id": "15f07369",
   "metadata": {},
   "outputs": [],
   "source": [
    "X= df.drop('Class' , axis= 1)\n",
    "y= df['Class']"
   ]
  },
  {
   "cell_type": "code",
   "execution_count": 61,
   "id": "2121f59c",
   "metadata": {},
   "outputs": [],
   "source": [
    "from sklearn.model_selection import train_test_split\n",
    "\n",
    "X_train, X_test, y_train, y_test = train_test_split(X, y, test_size=0.2, random_state=42)"
   ]
  },
  {
   "cell_type": "code",
   "execution_count": 62,
   "id": "6fdd6fff",
   "metadata": {},
   "outputs": [],
   "source": [
    "from sklearn.preprocessing import StandardScaler\n",
    "\n",
    "scaler= StandardScaler()\n",
    "\n",
    "X_train= scaler.fit_transform(X_train)\n",
    "X_test= scaler.transform(X_test)"
   ]
  },
  {
   "cell_type": "markdown",
   "id": "00a9d2df",
   "metadata": {},
   "source": [
    "### Building a base model"
   ]
  },
  {
   "cell_type": "code",
   "execution_count": 67,
   "id": "fdd936a6",
   "metadata": {},
   "outputs": [],
   "source": [
    "from sklearn.linear_model import LogisticRegression\n",
    "from sklearn.ensemble     import AdaBoostClassifier\n",
    "from sklearn.ensemble     import RandomForestClassifier\n",
    "from sklearn.neighbors    import KNeighborsClassifier\n",
    "from sklearn.svm          import SVC\n",
    "\n",
    "from sklearn.metrics import accuracy_score\n",
    "\n",
    "\n",
    "models= {'LogisticRegression': LogisticRegression(),\n",
    "         'AdaBoostClassifier':AdaBoostClassifier(),\n",
    "         'RandomForestClassifier': RandomForestClassifier(),\n",
    "         'KNeighborsClassifier': KNeighborsClassifier(),\n",
    "         'SVC': SVC()}\n",
    "\n",
    "def evaluate_models(models , X_train , X_test , y_train , y_test):\n",
    "    \n",
    "    model_scores= {}\n",
    "    \n",
    "    for name , model in models.items():\n",
    "        \n",
    "        model.fit(X_train , y_train)\n",
    "                \n",
    "        model_scores[name]= model.score(X_test , y_test)\n",
    "        \n",
    "    return model_scores"
   ]
  },
  {
   "cell_type": "code",
   "execution_count": 68,
   "id": "c499b8fb",
   "metadata": {
    "scrolled": true
   },
   "outputs": [
    {
     "data": {
      "text/plain": [
       "{'LogisticRegression': 0.7532467532467533,\n",
       " 'AdaBoostClassifier': 0.7467532467532467,\n",
       " 'RandomForestClassifier': 0.7597402597402597,\n",
       " 'KNeighborsClassifier': 0.7077922077922078,\n",
       " 'SVC': 0.7467532467532467}"
      ]
     },
     "execution_count": 68,
     "metadata": {},
     "output_type": "execute_result"
    }
   ],
   "source": [
    "model_scores= evaluate_models(models=models,\n",
    "                              X_train= X_train,\n",
    "                              X_test= X_test,\n",
    "                              y_train= y_train,\n",
    "                              y_test= y_test)\n",
    "\n",
    "\n",
    "model_scores"
   ]
  },
  {
   "cell_type": "code",
   "execution_count": 78,
   "id": "bcfeb640",
   "metadata": {},
   "outputs": [
    {
     "data": {
      "image/png": "[encoded data removed]",
      "text/plain": [
       "<Figure size 432x288 with 1 Axes>"
      ]
     },
     "metadata": {
      "needs_background": "light"
     },
     "output_type": "display_data"
    }
   ],
   "source": [
    "models_compare= pd.DataFrame(model_scores , index=['accuracy'])\n",
    "\n",
    "models_compare.T.plot.bar();"
   ]
  },
  {
   "cell_type": "markdown",
   "id": "73fe90aa",
   "metadata": {},
   "source": [
    "### RandomForestClassifier seems to be the best base model.\n",
    "\n",
    "\n",
    "## Hyperparameters tuning using GridSearchCV"
   ]
  },
  {
   "cell_type": "code",
   "execution_count": 75,
   "id": "e08abca0",
   "metadata": {},
   "outputs": [
    {
     "data": {
      "text/plain": [
       "GridSearchCV(estimator=RandomForestClassifier(),\n",
       "             param_grid={'bootstrap': [True, False],\n",
       "                         'max_depth': [None, 1, 2, 3],\n",
       "                         'max_features': ['auto', 'sqrt', 'log2'],\n",
       "                         'n_estimators': range(20, 200, 20),\n",
       "                         'oob_score': [True, False]})"
      ]
     },
     "execution_count": 75,
     "metadata": {},
     "output_type": "execute_result"
    }
   ],
   "source": [
    "import warnings\n",
    "warnings.filterwarnings(\"ignore\")\n",
    "\n",
    "\n",
    "from sklearn.model_selection import GridSearchCV\n",
    "\n",
    "\n",
    "n_estimators=range(20 , 200 , 20)\n",
    "max_depth= [None,1,2,3]\n",
    "max_features= ['auto', 'sqrt', 'log2']\n",
    "bootstrap = [True,False]\n",
    "oob_score = [True,False]\n",
    "\n",
    "\n",
    "param_grid = {'n_estimators':n_estimators,\n",
    "              'max_depth':max_depth,\n",
    "              'max_features':max_features,\n",
    "              'bootstrap':bootstrap,\n",
    "              'oob_score':oob_score}\n",
    "\n",
    "\n",
    "rfc = RandomForestClassifier()\n",
    "grid = GridSearchCV(rfc , param_grid)\n",
    "\n",
    "\n",
    "grid.fit(X_train,y_train)"
   ]
  },
  {
   "cell_type": "code",
   "execution_count": 76,
   "id": "82da74e2",
   "metadata": {},
   "outputs": [
    {
     "data": {
      "text/plain": [
       "{'bootstrap': True,\n",
       " 'max_depth': None,\n",
       " 'max_features': 'log2',\n",
       " 'n_estimators': 160,\n",
       " 'oob_score': False}"
      ]
     },
     "execution_count": 76,
     "metadata": {},
     "output_type": "execute_result"
    }
   ],
   "source": [
    "grid.best_params_"
   ]
  },
  {
   "cell_type": "code",
   "execution_count": 77,
   "id": "8be4491d",
   "metadata": {},
   "outputs": [
    {
     "name": "stdout",
     "output_type": "stream",
     "text": [
      "Accuracy score is:  74.68%\n"
     ]
    }
   ],
   "source": [
    "y_pred= grid.predict(X_test)\n",
    "\n",
    "from slprint(f'Accuracy score is: {accuracy_score(y_test , y_pred) *100: .2f}%')"
   ]
  },
  {
   "cell_type": "code",
   "execution_count": 80,
   "id": "b38b34f9",
   "metadata": {},
   "outputs": [
    {
     "name": "stdout",
     "output_type": "stream",
     "text": [
      "              precision    recall  f1-score   support\n",
      "\n",
      "           0       0.82      0.78      0.80        99\n",
      "           1       0.63      0.69      0.66        55\n",
      "\n",
      "    accuracy                           0.75       154\n",
      "   macro avg       0.73      0.73      0.73       154\n",
      "weighted avg       0.75      0.75      0.75       154\n",
      "\n"
     ]
    }
   ],
   "source": [
    "from sklearn.metrics import classification_report , confusion_matrix\n",
    "\n",
    "print(classification_report(y_test, y_pred))"
   ]
  },
  {
   "cell_type": "markdown",
   "id": "2c509f07",
   "metadata": {},
   "source": [
    "### Balancing the two classes and check if the accuracy is increased"
   ]
  },
  {
   "cell_type": "code",
   "execution_count": 81,
   "id": "fcec6ac5",
   "metadata": {},
   "outputs": [
    {
     "data": {
      "text/plain": [
       "0    500\n",
       "1    268\n",
       "Name: Class, dtype: int64"
      ]
     },
     "execution_count": 81,
     "metadata": {},
     "output_type": "execute_result"
    }
   ],
   "source": [
    "df['Class'].value_counts()"
   ]
  },
  {
   "cell_type": "code",
   "execution_count": 82,
   "id": "95602761",
   "metadata": {},
   "outputs": [
    {
     "data": {
      "text/plain": [
       "<AxesSubplot:xlabel='Class', ylabel='count'>"
      ]
     },
     "execution_count": 82,
     "metadata": {},
     "output_type": "execute_result"
    },
    {
     "data": {
      "image/png": "[encoded data removed]",
      "text/plain": [
       "<Figure size 432x288 with 1 Axes>"
      ]
     },
     "metadata": {
      "needs_background": "light"
     },
     "output_type": "display_data"
    }
   ],
   "source": [
    "sns.countplot(data=df , x='Class')"
   ]
  },
  {
   "cell_type": "code",
   "execution_count": 83,
   "id": "9ed439ba",
   "metadata": {},
   "outputs": [
    {
     "data": {
      "text/html": [
       "<div>\n",
       "<style scoped>\n",
       "    .dataframe tbody tr th:only-of-type {\n",
       "        vertical-align: middle;\n",
       "    }\n",
       "\n",
       "    .dataframe tbody tr th {\n",
       "        vertical-align: top;\n",
       "    }\n",
       "\n",
       "    .dataframe thead th {\n",
       "        text-align: right;\n",
       "    }\n",
       "</style>\n",
       "<table border=\"1\" class=\"dataframe\">\n",
       "  <thead>\n",
       "    <tr style=\"text-align: right;\">\n",
       "      <th></th>\n",
       "      <th>Preg</th>\n",
       "      <th>Glucose</th>\n",
       "      <th>BP</th>\n",
       "      <th>skinThick</th>\n",
       "      <th>Insulin</th>\n",
       "      <th>BMI</th>\n",
       "      <th>DPF</th>\n",
       "      <th>Age</th>\n",
       "      <th>Class</th>\n",
       "    </tr>\n",
       "  </thead>\n",
       "  <tbody>\n",
       "    <tr>\n",
       "      <th>269</th>\n",
       "      <td>2</td>\n",
       "      <td>146</td>\n",
       "      <td>0</td>\n",
       "      <td>23</td>\n",
       "      <td>30.5</td>\n",
       "      <td>27.5</td>\n",
       "      <td>0.240</td>\n",
       "      <td>28</td>\n",
       "      <td>1</td>\n",
       "    </tr>\n",
       "    <tr>\n",
       "      <th>283</th>\n",
       "      <td>7</td>\n",
       "      <td>161</td>\n",
       "      <td>86</td>\n",
       "      <td>23</td>\n",
       "      <td>30.5</td>\n",
       "      <td>30.4</td>\n",
       "      <td>0.165</td>\n",
       "      <td>47</td>\n",
       "      <td>1</td>\n",
       "    </tr>\n",
       "    <tr>\n",
       "      <th>195</th>\n",
       "      <td>5</td>\n",
       "      <td>158</td>\n",
       "      <td>84</td>\n",
       "      <td>41</td>\n",
       "      <td>210.0</td>\n",
       "      <td>39.4</td>\n",
       "      <td>0.395</td>\n",
       "      <td>29</td>\n",
       "      <td>1</td>\n",
       "    </tr>\n",
       "    <tr>\n",
       "      <th>535</th>\n",
       "      <td>4</td>\n",
       "      <td>132</td>\n",
       "      <td>0</td>\n",
       "      <td>23</td>\n",
       "      <td>30.5</td>\n",
       "      <td>32.9</td>\n",
       "      <td>0.302</td>\n",
       "      <td>23</td>\n",
       "      <td>1</td>\n",
       "    </tr>\n",
       "    <tr>\n",
       "      <th>38</th>\n",
       "      <td>2</td>\n",
       "      <td>90</td>\n",
       "      <td>68</td>\n",
       "      <td>42</td>\n",
       "      <td>30.5</td>\n",
       "      <td>38.2</td>\n",
       "      <td>0.503</td>\n",
       "      <td>27</td>\n",
       "      <td>1</td>\n",
       "    </tr>\n",
       "  </tbody>\n",
       "</table>\n",
       "</div>"
      ],
      "text/plain": [
       "     Preg  Glucose  BP  skinThick  Insulin   BMI    DPF  Age  Class\n",
       "269     2      146   0         23     30.5  27.5  0.240   28      1\n",
       "283     7      161  86         23     30.5  30.4  0.165   47      1\n",
       "195     5      158  84         41    210.0  39.4  0.395   29      1\n",
       "535     4      132   0         23     30.5  32.9  0.302   23      1\n",
       "38      2       90  68         42     30.5  38.2  0.503   27      1"
      ]
     },
     "execution_count": 83,
     "metadata": {},
     "output_type": "execute_result"
    }
   ],
   "source": [
    "from sklearn.utils import resample\n",
    "\n",
    "df_minority= df[df['Class']==1]\n",
    "\n",
    "df_majority = df[df['Class']==0]\n",
    "\n",
    "df_minority_upsampled= resample(df_minority,\n",
    "                               replace=True,\n",
    "                               n_samples=500,\n",
    "                               random_state=42)\n",
    "\n",
    "df_upsampled= pd.concat([df_minority_upsampled , df_majority])\n",
    "\n",
    "df_upsampled.head()\n"
   ]
  },
  {
   "cell_type": "code",
   "execution_count": 92,
   "id": "f1062a12",
   "metadata": {},
   "outputs": [
    {
     "data": {
      "text/plain": [
       "1    500\n",
       "0    500\n",
       "Name: Class, dtype: int64"
      ]
     },
     "execution_count": 92,
     "metadata": {},
     "output_type": "execute_result"
    }
   ],
   "source": [
    "df_upsampled['Class'].value_counts()"
   ]
  },
  {
   "cell_type": "code",
   "execution_count": 93,
   "id": "e88e75e9",
   "metadata": {},
   "outputs": [
    {
     "data": {
      "text/plain": [
       "<AxesSubplot:xlabel='Class', ylabel='count'>"
      ]
     },
     "execution_count": 93,
     "metadata": {},
     "output_type": "execute_result"
    },
    {
     "data": {
      "image/png": "[encoded data removed]",
      "text/plain": [
       "<Figure size 432x288 with 1 Axes>"
      ]
     },
     "metadata": {
      "needs_background": "light"
     },
     "output_type": "display_data"
    }
   ],
   "source": [
    "sns.countplot(data=df_upsampled , x='Class')"
   ]
  },
  {
   "cell_type": "code",
   "execution_count": 95,
   "id": "bd47e8ea",
   "metadata": {},
   "outputs": [
    {
     "name": "stdout",
     "output_type": "stream",
     "text": [
      "Accuracy score is:  90.00%\n",
      "              precision    recall  f1-score   support\n",
      "\n",
      "           0       0.96      0.85      0.90       104\n",
      "           1       0.85      0.96      0.90        96\n",
      "\n",
      "    accuracy                           0.90       200\n",
      "   macro avg       0.90      0.90      0.90       200\n",
      "weighted avg       0.91      0.90      0.90       200\n",
      "\n"
     ]
    }
   ],
   "source": [
    "np.random.seed(42)\n",
    "\n",
    "\n",
    "X= df_upsampled.drop('Class' , axis= 1)\n",
    "y= df_upsampled['Class']\n",
    "\n",
    "\n",
    "X_train, X_test, y_train, y_test = train_test_split(X, y, test_size=0.2, random_state=42)\n",
    "\n",
    "\n",
    "scaler= StandardScaler()\n",
    "\n",
    "X_train= scaler.fit_transform(X_train)\n",
    "X_test= scaler.transform(X_test)\n",
    "\n",
    "\n",
    "classifier = RandomForestClassifier(n_estimators=160,\n",
    "                                    bootstrap=True,\n",
    "                                    max_depth=None,\n",
    "                                    max_features='log2',\n",
    "                                    oob_score=False)\n",
    "\n",
    "classifier.fit(X_train,y_train)\n",
    "\n",
    "\n",
    "predictions= classifier.predict(X_test)\n",
    "\n",
    "print(f'Accuracy score is: {accuracy_score(y_test , predictions) *100: .2f}%')\n",
    "\n",
    "print(classification_report(y_test, predictions))\n"
   ]
  },
  {
   "cell_type": "code",
   "execution_count": 98,
   "id": "40f12b85",
   "metadata": {},
   "outputs": [
    {
     "data": {
      "text/plain": [
       "<AxesSubplot:>"
      ]
     },
     "execution_count": 98,
     "metadata": {},
     "output_type": "execute_result"
    },
    {
     "data": {
      "image/png": "[encoded data removed]",
      "text/plain": [
       "<Figure size 432x288 with 2 Axes>"
      ]
     },
     "metadata": {
      "needs_background": "light"
     },
     "output_type": "display_data"
    }
   ],
   "source": [
    "sns.heatmap(confusion_matrix(y_test , predictions) , annot=True)"
   ]
  },
  {
   "cell_type": "markdown",
   "id": "5cec8530",
   "metadata": {},
   "source": [
    "### Dimensionality Reduction using PCA "
   ]
  },
  {
   "cell_type": "code",
   "execution_count": 103,
   "id": "90bef3cd",
   "metadata": {},
   "outputs": [
    {
     "name": "stdout",
     "output_type": "stream",
     "text": [
      "Accuracy score is:  82.50%\n",
      "\n",
      "              precision    recall  f1-score   support\n",
      "\n",
      "           0       0.93      0.72      0.81       104\n",
      "           1       0.76      0.94      0.84        96\n",
      "\n",
      "    accuracy                           0.82       200\n",
      "   macro avg       0.84      0.83      0.82       200\n",
      "weighted avg       0.84      0.82      0.82       200\n",
      "\n"
     ]
    },
    {
     "data": {
      "image/png": "[encoded data removed]",
      "text/plain": [
       "<Figure size 432x288 with 2 Axes>"
      ]
     },
     "metadata": {
      "needs_background": "light"
     },
     "output_type": "display_data"
    }
   ],
   "source": [
    "np.random.seed(42)\n",
    "\n",
    "from sklearn.decomposition import PCA\n",
    "\n",
    "\n",
    "\n",
    "X= df_upsampled.drop('Class' , axis= 1)\n",
    "y= df_upsampled['Class']\n",
    "\n",
    "\n",
    "X_train, X_test, y_train, y_test = train_test_split(X, y, test_size=0.2, random_state=42)\n",
    "\n",
    "\n",
    "scaler= StandardScaler()\n",
    "\n",
    "X_train= scaler.fit_transform(X_train)\n",
    "X_test= scaler.transform(X_test)\n",
    "\n",
    "\n",
    "\n",
    "pca_model = PCA(n_components= 2)\n",
    "X_train_pca = pca_model.fit_transform(X_train)\n",
    "X_test_pca = pca_model.transform(X_test)\n",
    "\n",
    "\n",
    "classifier = RandomForestClassifier(n_estimators=160,\n",
    "                                    bootstrap=True,\n",
    "                                    max_depth=None,\n",
    "                                    max_features='log2',\n",
    "                                    oob_score=False)\n",
    "\n",
    "classifier.fit(X_train_pca , y_train)\n",
    "\n",
    "\n",
    "predictions= classifier.predict(X_test_pca)\n",
    "\n",
    "print(f'Accuracy score is: {accuracy_score(y_test , predictions) *100: .2f}%')\n",
    "\n",
    "print('')\n",
    "\n",
    "print(classification_report(y_test, predictions))\n",
    "\n",
    "sns.heatmap(confusion_matrix(y_test , predictions) , annot=True);"
   ]
  },
  {
   "cell_type": "markdown",
   "id": "561d7dc0",
   "metadata": {},
   "source": [
    "### Using two principal components analysis gave 82.50% accuracy"
   ]
  },
  {
   "cell_type": "code",
   "execution_count": 106,
   "id": "4883f3a0",
   "metadata": {},
   "outputs": [
    {
     "data": {
      "image/png": "[encoded data removed]",
      "text/plain": [
       "<Figure size 432x288 with 1 Axes>"
      ]
     },
     "metadata": {
      "needs_background": "light"
     },
     "output_type": "display_data"
    }
   ],
   "source": [
    "plt.scatter(X_test_pca[:,0], X_test_pca[:,1], c= y_test, cmap='rainbow' )\n",
    "plt.show()"
   ]
  }
 ],
 "metadata": {
  "kernelspec": {
   "display_name": "Python 3 (ipykernel)",
   "language": "python",
   "name": "python3"
  },
  "language_info": {
   "codemirror_mode": {
    "name": "ipython",
    "version": 3
   },
   "file_extension": ".py",
   "mimetype": "text/x-python",
   "name": "python",
   "nbconvert_exporter": "python",
   "pygments_lexer": "ipython3",
   "version": "3.9.12"
  }
 },
 "nbformat": 4,
 "nbformat_minor": 5
}
